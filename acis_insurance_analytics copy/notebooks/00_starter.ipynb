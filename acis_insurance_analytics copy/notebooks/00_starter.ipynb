{
  "cells": [
    {
      "cell_type": "markdown",
      "metadata": {},
      "source": [
        "# ACIS Insurance Analytics \u2014 Starter Notebook\n",
        "Use scripts in `src/` for the pipeline. This notebook is optional for ad-hoc exploration."
      ]
    }
  ],
  "metadata": {
    "kernelspec": {
      "display_name": "Python 3",
      "language": "python",
      "name": "python3"
    }
  },
  "nbformat": 4,
  "nbformat_minor": 5
}